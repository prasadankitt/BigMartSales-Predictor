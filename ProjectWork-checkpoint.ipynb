{
 "cells": [
  {
   "cell_type": "markdown",
   "id": "77420379",
   "metadata": {},
   "source": [
    "                                         Importing The Dependencies"
   ]
  },
  {
   "cell_type": "code",
   "execution_count": null,
   "id": "95d690e9",
   "metadata": {},
   "outputs": [],
   "source": [
    "import numpy as np\n",
    "import pandas as pd\n",
    "import matplotlib.pyplot as plt\n",
    "import seaborn as sns\n",
    "from sklearn.preprocessing import LabelEncoder\n",
    "from sklearn.model_selection import train_test_split\n",
    "from xgboost import XGBRegressor\n",
    "from sklearn import metrics\n",
    "from sklearn.linear_model import LinearRegression"
   ]
  },
  {
   "cell_type": "markdown",
   "id": "c2e2c876",
   "metadata": {},
   "source": [
    "                                          \n",
    "                                          \n",
    "                                          Data Collection & Analysis"
   ]
  },
  {
   "cell_type": "code",
   "execution_count": null,
   "id": "bd8b69dc",
   "metadata": {},
   "outputs": [],
   "source": [
    "bmd = pd.read_csv(\"Train.csv\")\n",
    "\n",
    "# NUMBER OF DATAPOINTS(ROWS) & NUMBER OF FEATURES(COLUMNS)\n",
    "print(bmd.shape)   "
   ]
  },
  {
   "cell_type": "code",
   "execution_count": null,
   "id": "6a31d869",
   "metadata": {},
   "outputs": [],
   "source": [
    "bmd.head()"
   ]
  },
  {
   "cell_type": "code",
   "execution_count": null,
   "id": "43ed25d4",
   "metadata": {},
   "outputs": [],
   "source": [
    "# GETTING SOME INFORMATION ABOUT THE DATASET\n",
    "bmd.info()"
   ]
  },
  {
   "cell_type": "markdown",
   "id": "1415c729",
   "metadata": {},
   "source": [
    " WE ARE HAVING SOME CATEGORICAL VALUES IN OUR DATASET WHICH ARE NON-NUMERICAL LIKE FATCONTENT HAVE TWO CATEGORIES\n",
    " CATEGORICAL FEATURES IN OUR DATASETS:\n",
    " - ProductID\n",
    " - FatContent\n",
    " - ProductType\n",
    " - OutletID\n",
    " - OutletSize\n",
    " - LocationType\n",
    " - OutletType"
   ]
  },
  {
   "cell_type": "code",
   "execution_count": null,
   "id": "2fd4724e",
   "metadata": {},
   "outputs": [],
   "source": [
    "# CHECKING FOR MISSING VALUES\n",
    "bmd.isnull().sum()"
   ]
  },
  {
   "cell_type": "code",
   "execution_count": null,
   "id": "52587c33",
   "metadata": {},
   "outputs": [],
   "source": [
    "#unique values in data \n",
    "bmd.apply(lambda x: len(x.unique()))"
   ]
  },
  {
   "cell_type": "markdown",
   "id": "99b7b3f0",
   "metadata": {},
   "source": [
    "                          \n",
    "                          \n",
    "                                 HANDLING MISSING VALUES USING IMPUTATION :\n",
    "                          - MEAN --> average value    (can use for numerical data)\n",
    "                          - MODE --> most repeated value  (can use for categorical data)"
   ]
  },
  {
   "cell_type": "code",
   "execution_count": null,
   "id": "5e1bfa2a",
   "metadata": {},
   "outputs": [],
   "source": [
    "# MEAN VALUE OF WEIGHT COLUMN\n",
    "bmd['Weight'].mean()"
   ]
  },
  {
   "cell_type": "code",
   "execution_count": null,
   "id": "179aa335",
   "metadata": {},
   "outputs": [],
   "source": [
    "# FILLING THE MISSING VALUES IN WEIGHT COLUMN WITH CALCULATED MEAN\n",
    "bmd['Weight'].fillna(bmd['Weight'].mean(), inplace = True)"
   ]
  },
  {
   "cell_type": "code",
   "execution_count": null,
   "id": "0651f6c9",
   "metadata": {},
   "outputs": [],
   "source": [
    "bmd['OutletSales'].fillna(bmd['OutletSales'].mean(),inplace = True)"
   ]
  },
  {
   "cell_type": "code",
   "execution_count": null,
   "id": "62c1b895",
   "metadata": {},
   "outputs": [],
   "source": [
    "bmd.isnull().sum()"
   ]
  },
  {
   "cell_type": "markdown",
   "id": "57ed66a1",
   "metadata": {},
   "source": [
    "                         \n",
    "                         REPLACING THE MISSING VALUES IN 'OUTLETSIZE' COLUMN WITH MODE"
   ]
  },
  {
   "cell_type": "code",
   "execution_count": null,
   "id": "9fc0554f",
   "metadata": {},
   "outputs": [],
   "source": [
    "mode_of_outlet_size = bmd.pivot_table(values='OutletSize', columns = 'OutletType', aggfunc=(lambda x: x.mode()[0]))\n",
    "# here we are using lambda its same as def but for using a function only one time we dont need to create a def function"
   ]
  },
  {
   "cell_type": "code",
   "execution_count": null,
   "id": "1b4a05ac",
   "metadata": {},
   "outputs": [],
   "source": [
    "print(mode_of_outlet_size) # what it says is most of the grocery stores are small"
   ]
  },
  {
   "cell_type": "code",
   "execution_count": null,
   "id": "3f4c3394",
   "metadata": {},
   "outputs": [],
   "source": [
    "missing_values = bmd['OutletSize'].isnull()\n",
    "print(missing_values)"
   ]
  },
  {
   "cell_type": "code",
   "execution_count": null,
   "id": "4edd6e64",
   "metadata": {},
   "outputs": [],
   "source": [
    "bmd.loc[missing_values, 'OutletSize'] = bmd.loc[missing_values, 'OutletType'].apply(lambda x: mode_of_outlet_size[x])"
   ]
  },
  {
   "cell_type": "code",
   "execution_count": null,
   "id": "8ea355ce",
   "metadata": {},
   "outputs": [],
   "source": [
    "bmd.isnull().sum()"
   ]
  },
  {
   "cell_type": "markdown",
   "id": "a88dc8e4",
   "metadata": {},
   "source": [
    "                                              DATA ANALYSIS"
   ]
  },
  {
   "cell_type": "code",
   "execution_count": null,
   "id": "656b1cd3",
   "metadata": {},
   "outputs": [],
   "source": [
    "bmd.describe()"
   ]
  },
  {
   "cell_type": "markdown",
   "id": "7d8e4afe",
   "metadata": {},
   "source": [
    "                                      PLOTTING OF NUMERICAL FEATURES"
   ]
  },
  {
   "cell_type": "code",
   "execution_count": null,
   "id": "f8e88991",
   "metadata": {},
   "outputs": [],
   "source": [
    "sns.set()  #THEMES"
   ]
  },
  {
   "cell_type": "code",
   "execution_count": null,
   "id": "bafe0716",
   "metadata": {},
   "outputs": [],
   "source": [
    "# WEIGHT DISTRIBUTION\n",
    "plt.figure(figsize=(6, 6))\n",
    "sns.distplot(bmd['Weight'])\n",
    "plt.show()\n",
    "sns.histplot(bmd['Weight'])\n",
    "plt.show()"
   ]
  },
  {
   "cell_type": "code",
   "execution_count": null,
   "id": "7469f0d3",
   "metadata": {},
   "outputs": [],
   "source": [
    "# PRODUCT VISIBILITY\n",
    "plt.figure(figsize=(6,6))\n",
    "sns.distplot(bmd['ProductVisibility'])\n",
    "plt.show"
   ]
  },
  {
   "cell_type": "code",
   "execution_count": null,
   "id": "fc567fa4",
   "metadata": {},
   "outputs": [],
   "source": [
    "# MRP\n",
    "plt.figure(figsize=(6,6))\n",
    "sns.distplot(bmd['MRP'])\n",
    "plt.show()"
   ]
  },
  {
   "cell_type": "code",
   "execution_count": null,
   "id": "33a585af",
   "metadata": {},
   "outputs": [],
   "source": [
    "# ESTABLISHMENT YEAR\n",
    "plt.figure(figsize=(6,6))\n",
    "sns.distplot(bmd['EstablishmentYear'])\n",
    "plt.show()"
   ]
  },
  {
   "cell_type": "code",
   "execution_count": null,
   "id": "aa5ac9ee",
   "metadata": {},
   "outputs": [],
   "source": [
    "# OUTLET SALES\n",
    "plt.figure(figsize=(6,6))\n",
    "sns.distplot(bmd['OutletSales'])\n",
    "plt.show()"
   ]
  },
  {
   "cell_type": "code",
   "execution_count": null,
   "id": "ff260b2f",
   "metadata": {},
   "outputs": [],
   "source": [
    "# ESTABLISHMENT YEAR\n",
    "plt.figure(figsize=(8,8))\n",
    "sns.countplot(x='EstablishmentYear', data=bmd)\n",
    "plt.show()"
   ]
  },
  {
   "cell_type": "markdown",
   "id": "795548e4",
   "metadata": {},
   "source": [
    "\n",
    "\n",
    "                                           PLOTTING OF CATEGORICAL DATA"
   ]
  },
  {
   "cell_type": "code",
   "execution_count": null,
   "id": "c691b3ee",
   "metadata": {},
   "outputs": [],
   "source": [
    "# FatContent\n",
    "plt.figure(figsize=(6,6))\n",
    "sns.countplot(x='FatContent', data=bmd)\n",
    "plt.show()"
   ]
  },
  {
   "cell_type": "code",
   "execution_count": null,
   "id": "f5f2d71c",
   "metadata": {},
   "outputs": [],
   "source": [
    "# FatContent Corrected \n",
    "plt.figure(figsize=(6,6))\n",
    "sns.countplot(x='FatContent', data=bmd)\n",
    "plt.show()"
   ]
  },
  {
   "cell_type": "code",
   "execution_count": null,
   "id": "7bcd9aa8",
   "metadata": {},
   "outputs": [],
   "source": [
    "# ProductType\n",
    "plt.figure(figsize=(20,6))\n",
    "sns.countplot(x='ProductType', data=bmd)\n",
    "plt.show()"
   ]
  },
  {
   "cell_type": "code",
   "execution_count": null,
   "id": "71fd3730",
   "metadata": {},
   "outputs": [],
   "source": [
    "# change in Fatcontent plot\n",
    "bmd['FatContent'].value_counts()"
   ]
  },
  {
   "cell_type": "code",
   "execution_count": null,
   "id": "e59e7b05",
   "metadata": {},
   "outputs": [],
   "source": [
    "bmd.replace({'FatContent': {'low fat':'Low Fat', 'reg':'Regular', 'LF':'Low Fat'}}, inplace = True)"
   ]
  },
  {
   "cell_type": "code",
   "execution_count": null,
   "id": "4b0756d7",
   "metadata": {},
   "outputs": [],
   "source": [
    "# Outlet Size\n",
    "plt.figure(figsize=(6,6))\n",
    "sns.countplot(x='OutletSize', data=bmd)\n",
    "plt.show()"
   ]
  },
  {
   "cell_type": "markdown",
   "id": "49b58af9",
   "metadata": {},
   "source": [
    "                                              \n",
    "                                              \n",
    "                                              DATA PREPROCESSING\n",
    "                                               [LABEL ENCODING]"
   ]
  },
  {
   "cell_type": "code",
   "execution_count": null,
   "id": "d974151e",
   "metadata": {},
   "outputs": [],
   "source": [
    "bmd.head()"
   ]
  },
  {
   "cell_type": "code",
   "execution_count": null,
   "id": "7c3a8e52",
   "metadata": {},
   "outputs": [],
   "source": [
    "encoder = LabelEncoder()"
   ]
  },
  {
   "cell_type": "code",
   "execution_count": null,
   "id": "fd34958c",
   "metadata": {},
   "outputs": [],
   "source": [
    "bmd['ProductID'] = encoder.fit_transform(bmd['ProductID'])\n",
    "bmd['FatContent'] = encoder.fit_transform(bmd['FatContent'])\n",
    "bmd['ProductType'] = encoder.fit_transform(bmd['ProductType'])\n",
    "bmd['OutletID'] = encoder.fit_transform(bmd['OutletID'])\n",
    "bmd['OutletSize'] = encoder.fit_transform(bmd['OutletSize'])\n",
    "bmd['LocationType'] = encoder.fit_transform(bmd['LocationType'])\n",
    "bmd['OutletType'] = encoder.fit_transform(bmd['OutletType'])"
   ]
  },
  {
   "cell_type": "code",
   "execution_count": null,
   "id": "2b26e841",
   "metadata": {},
   "outputs": [],
   "source": [
    "bmd.head()"
   ]
  },
  {
   "cell_type": "code",
   "execution_count": null,
   "id": "8f1b18ff",
   "metadata": {},
   "outputs": [],
   "source": [
    "bmd.dtypes"
   ]
  },
  {
   "cell_type": "code",
   "execution_count": null,
   "id": "817bdc11",
   "metadata": {},
   "outputs": [],
   "source": [
    "bmd.head()"
   ]
  },
  {
   "cell_type": "markdown",
   "id": "658ff616",
   "metadata": {},
   "source": [
    "\n",
    "\n",
    "                                               \n",
    "                                               SPLITTING FEATURES AND TARGET"
   ]
  },
  {
   "cell_type": "code",
   "execution_count": null,
   "id": "0b485b9e",
   "metadata": {},
   "outputs": [],
   "source": [
    "feature=bmd.drop(columns='OutletSales', axis=1)\n",
    "target=bmd['OutletSales']"
   ]
  },
  {
   "cell_type": "code",
   "execution_count": null,
   "id": "1bdd4249",
   "metadata": {},
   "outputs": [],
   "source": [
    "print(feature)"
   ]
  },
  {
   "cell_type": "code",
   "execution_count": null,
   "id": "3161c0e1",
   "metadata": {},
   "outputs": [],
   "source": [
    "print(target)"
   ]
  },
  {
   "cell_type": "markdown",
   "id": "840df3cd",
   "metadata": {},
   "source": [
    "\n",
    "\n",
    "                               SPLITTING THE DATA INTO TRAINING DATA & TESTING DATA"
   ]
  },
  {
   "cell_type": "code",
   "execution_count": null,
   "id": "e1f1a32e",
   "metadata": {},
   "outputs": [],
   "source": [
    "feature_train, feature_test, target_train, target_test = train_test_split(feature,target,test_size=0.2,random_state=2)"
   ]
  },
  {
   "cell_type": "markdown",
   "id": "18c0edcf",
   "metadata": {},
   "source": [
    "                                             \n",
    "                                             \n",
    "                                             GENERIC FUNCTION"
   ]
  },
  {
   "cell_type": "code",
   "execution_count": null,
   "id": "1e4b590a",
   "metadata": {},
   "outputs": [],
   "source": [
    "def modelprototype(algo,featuretrain,targettrain,featuretest,targettest):\n",
    "    \n",
    "    #Fit the algorithm on the data\n",
    "    algo.fit(featuretrain,targettrain)\n",
    "    \n",
    "    #Predict training set:\n",
    "    feature_train_predict = algo.predict(featuretrain)\n",
    "    prediction_train = np.sqrt(metrics.mean_squared_error(targettrain,feature_train_predict))\n",
    "    acc_train = algo.score(featuretrain,targettrain)\n",
    "    \n",
    "    #predict testing set:\n",
    "    feature_test_predict = algo.predict(featuretest)\n",
    "    prediction_test = np.sqrt(metrics.mean_squared_error(targettest,feature_test_predict))\n",
    "    acc_test = algo.score(featuretest,targettest)\n",
    "    \n",
    "    #ModelReport\n",
    "    print(\"MODEL REPORT :\")\n",
    "    print(\"RMSE of train:\",prediction_train)\n",
    "    print(\"RMSE of test:\",prediction_test)\n",
    "    print(\"accuracy of train data:\",acc_train)\n",
    "    print(\"accuracy of test data:\",acc_test)\n",
    "    print(\"r squared value:\",metrics.r2_score(targettest,feature_test_predict))"
   ]
  },
  {
   "cell_type": "markdown",
   "id": "c9a9f15d",
   "metadata": {},
   "source": [
    "                                        \n",
    "                                        \n",
    "                                        \n",
    "                                        \n",
    "                                        TRAINING MACHINE LEARNING MODEL"
   ]
  },
  {
   "cell_type": "markdown",
   "id": "1aa872f8",
   "metadata": {},
   "source": [
    "                                              XGBoost Regressor"
   ]
  },
  {
   "cell_type": "code",
   "execution_count": null,
   "id": "f252dc0e",
   "metadata": {},
   "outputs": [],
   "source": [
    "regressor = XGBRegressor()\n",
    "modelprototype(regressor,feature_train,target_train,feature_test,target_test)"
   ]
  },
  {
   "cell_type": "markdown",
   "id": "6ef5f4d6",
   "metadata": {},
   "source": [
    "                                               Decision Tree"
   ]
  },
  {
   "cell_type": "code",
   "execution_count": null,
   "id": "b6142cc3",
   "metadata": {},
   "outputs": [],
   "source": [
    "from sklearn.tree import DecisionTreeRegressor\n",
    "dt1 = DecisionTreeRegressor(max_depth=15, min_samples_leaf=100)\n",
    "modelprototype(dt1,feature_train,target_train,feature_test,target_test)"
   ]
  },
  {
   "cell_type": "code",
   "execution_count": null,
   "id": "5ea068d9",
   "metadata": {},
   "outputs": [],
   "source": [
    "dt2 = DecisionTreeRegressor(max_depth=8, min_samples_leaf=150)\n",
    "modelprototype(dt2,feature_train,target_train,feature_test,target_test)"
   ]
  },
  {
   "cell_type": "markdown",
   "id": "144a787d",
   "metadata": {},
   "source": [
    "                                               \n",
    "                                               \n",
    "                                               \n",
    "                                                LINEAR REGRESSION"
   ]
  },
  {
   "cell_type": "code",
   "execution_count": null,
   "id": "5bda2398",
   "metadata": {},
   "outputs": [],
   "source": [
    "linear = LinearRegression()\n",
    "modelprototype(linear,feature_train,target_train,feature_test,target_test)"
   ]
  },
  {
   "cell_type": "code",
   "execution_count": null,
   "id": "ee9148d6",
   "metadata": {},
   "outputs": [],
   "source": [
    "print(\"weights: \",linear.coef_)\n",
    "print(\"intercept: \",linear.intercept_)"
   ]
  },
  {
   "cell_type": "markdown",
   "id": "4ed307a8",
   "metadata": {},
   "source": [
    "                                                      \n",
    "                                                      \n",
    "                                                      RANDOM FOREST"
   ]
  },
  {
   "cell_type": "code",
   "execution_count": null,
   "id": "a8376446",
   "metadata": {},
   "outputs": [],
   "source": [
    "from sklearn.ensemble import RandomForestRegressor\n",
    "rf1 = RandomForestRegressor(n_estimators=200,max_depth=5, min_samples_leaf=100,n_jobs=4)\n",
    "modelprototype(rf1,feature_train,target_train,feature_test,target_test)"
   ]
  },
  {
   "cell_type": "code",
   "execution_count": null,
   "id": "89f2df48",
   "metadata": {},
   "outputs": [],
   "source": [
    "rf2 = RandomForestRegressor(n_estimators=400,max_depth=6, min_samples_leaf=100,n_jobs=4)\n",
    "modelprototype(rf2,feature_train,target_train,feature_test,target_test)"
   ]
  }
 ],
 "metadata": {
  "kernelspec": {
   "display_name": "Python 3 (ipykernel)",
   "language": "python",
   "name": "python3"
  },
  "language_info": {
   "codemirror_mode": {
    "name": "ipython",
    "version": 3
   },
   "file_extension": ".py",
   "mimetype": "text/x-python",
   "name": "python",
   "nbconvert_exporter": "python",
   "pygments_lexer": "ipython3",
   "version": "3.10.3"
  }
 },
 "nbformat": 4,
 "nbformat_minor": 5
}
